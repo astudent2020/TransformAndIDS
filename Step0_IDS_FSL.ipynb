{
 "cells": [
  {
   "cell_type": "code",
   "execution_count": 1,
   "metadata": {
    "colab": {
     "base_uri": "https://localhost:8080/"
    },
    "id": "CQ1XyjAk9NrT",
    "outputId": "8292798d-0d58-4f07-86e2-b7b5c68a4a41"
   },
   "outputs": [
    {
     "name": "stdout",
     "output_type": "stream",
     "text": [
      "样本数量（resampled_ab_df）： 8000\n",
      "样本数量（resampled_nor_df）： 8000\n",
      "整合后的样本数量： 16000\n",
      "320\n",
      "81\n"
     ]
    }
   ],
   "source": [
    "from __future__ import absolute_import, division, print_function\n",
    "import pandas as pd\n",
    "import numpy as np\n",
    "import torch\n",
    "from sklearn.model_selection import train_test_split\n",
    "from sklearn.preprocessing import StandardScaler\n",
    "\n",
    "# 读取数据文件\n",
    "resampled_ab_df = pd.read_csv('data_8000_abnormal.csv', encoding='cp1252')\n",
    "resampled_nor_df = pd.read_csv('data_8000_normal.csv', encoding='cp1252')\n",
    "\n",
    "print(\"样本数量（resampled_ab_df）：\", resampled_ab_df.shape[0])\n",
    "print(\"样本数量（resampled_nor_df）：\", resampled_nor_df.shape[0])\n",
    "\n",
    "# 数据清理和选择特征\n",
    "df = pd.concat([resampled_nor_df, resampled_ab_df])\n",
    "print(\"整合后的样本数量：\", df.shape[0])\n",
    "\n",
    "df = df.drop(columns=[' Source IP', ' Destination IP', ' Timestamp', 'Flow ID'])\n",
    "\n",
    "if 'Unnamed: 0' in df.columns:\n",
    "    df = df.drop(columns=['Unnamed: 0'])\n",
    "\n",
    "# 将标签转换为二进制形式\n",
    "def label_transfer(d):\n",
    "    if d != 'BENIGN':\n",
    "        return 1\n",
    "    else:\n",
    "        return 0\n",
    "\n",
    "df = df.replace([np.inf, -np.inf], np.nan)\n",
    "df = df.dropna()\n",
    "df[' Label'] = df[' Label'].apply(lambda x: label_transfer(x))\n",
    "\n",
    "# 数据标准化和组装\n",
    "scaler = StandardScaler()\n",
    "column_size = len(df.columns)\n",
    "values = df.values[:, :column_size - 1]\n",
    "scaler.fit(values)\n",
    "values = scaler.transform(values)\n",
    "targets = df.values[:, column_size - 1: column_size]\n",
    "\n",
    "num_samples = len(values) // 10 * 10\n",
    "grouped_data_x = np.zeros((num_samples // 10, 10, 80))\n",
    "grouped_data_y = np.zeros(num_samples // 10)\n",
    "\n",
    "for i in range(0, num_samples, 10):\n",
    "    locs = np.arange(i, i + 10, 1)\n",
    "    token_list = values[locs]\n",
    "    grouped_data_x[int(i/10)] = token_list\n",
    "    grouped_data_y[int(i/10)] = targets[i][0]\n",
    "\n",
    "# 数据拆分为训练集和测试集\n",
    "permutation = torch.randperm(len(grouped_data_x))\n",
    "train_indices = list(permutation[0: int(len(grouped_data_x) * 0.8)])\n",
    "test_indices = list(permutation[int(len(grouped_data_x) * 0.8): len(grouped_data_x)])\n",
    "\n",
    "train_x = grouped_data_x[train_indices]\n",
    "train_y = grouped_data_y[train_indices]\n",
    "test_x = grouped_data_x[test_indices]\n",
    "test_y = grouped_data_y[test_indices]\n",
    "\n",
    "\n",
    "# 转换为张量格式\n",
    "train_X = torch.from_numpy(train_x).type(torch.FloatTensor)\n",
    "test_X = torch.from_numpy(test_x).type(torch.FloatTensor)\n",
    "train_Y = torch.from_numpy(train_y).type(torch.LongTensor)\n",
    "test_Y = torch.from_numpy(test_y).type(torch.LongTensor)\n",
    "\n",
    "print(len(test_X))\n",
    "# 将张量转换为DataFrame并保存为CSV文件\n",
    "train_X_df = pd.DataFrame(train_X.numpy().reshape(-1, 80))\n",
    "train_Y_df = pd.DataFrame(train_Y.numpy().reshape(-1, 1))\n",
    "test_X_df = pd.DataFrame(test_X.numpy().reshape(-1, 80))\n",
    "test_Y_df = pd.DataFrame(test_Y.numpy().reshape(-1, 1))\n",
    "\n",
    "train_X_df.to_csv('train_X.csv', index=False)\n",
    "train_Y_df.to_csv('train_Y.csv', index=False)\n",
    "test_X_df.to_csv('test_X.csv', index=False)\n",
    "test_Y_df.to_csv('test_Y.csv', index=False)\n",
    "print(len(df.columns))"
   ]
  },
  {
   "cell_type": "raw",
   "metadata": {},
   "source": [
    "将原始数据文件进行预处理和数据转换，最终将处理后的训练集和测试集保存为CSV文件\n",
    "    1、读取两个数据文件（'Wednesday-workingHours_8000_abnormal.csv'和'Wednesday-workingHours_8000_normal.csv'）并存储为两个数据框（resampled_ab_df和resampled_nor_df）。\n",
    "    2、输出样本数量（resampled_ab_df和resampled_nor_df）。\n",
    "    3、将两个数据框合并为一个数据框（df）。\n",
    "    4、删除不需要的特征列（' Source IP'，' Destination IP'，' Timestamp'，'Flow ID'和'Unnamed: 0'）。\n",
    "    5、将标签列转换为二进制形式，0表示'BENIGN'，1表示其他标签。\n",
    "    6、对数据进行标准化处理，使用StandardScaler对特征进行转换。\n",
    "    7、将数据按照一定规则进行组装，每10个样本组成一个序列，生成grouped_data_x和grouped_data_y。\n",
    "    8、将数据集拆分为训练集和测试集，按照80%和20%的比例划分。\n",
    "    9、将数据转换为张量（Tensor）的格式，包括训练集的特征数据（train_X）、训练集的标签数据（train_Y）、测试集的特征数据（test_X）和测试集的标签数据（test_Y）。\n",
    "    10、输出测试集特征数据的长度。\n",
    "    11、将张量格式的数据转换为DataFrame，并将训练集和测试集的特征数据和标签数据保存为CSV文件（train_X.csv，train_Y.csv，test_X.csv，test_Y.csv）\n",
    "    该代码读取原始数据，进行数据清洗、特征选择、标签转换、数据标准化、数据组装、数据集拆分和数据转换，并将处理后的数据保存为CSV文件。"
   ]
  },
  {
   "cell_type": "code",
   "execution_count": 2,
   "metadata": {
    "id": "cD3-DhC3fRlR"
   },
   "outputs": [],
   "source": [
    "# Model structure\n",
    "\n",
    "import math\n",
    "import torch\n",
    "import torch.nn as nn\n",
    "\n",
    "class TransformerClassifier(nn.Module):\n",
    "\n",
    "  def __init__(self, ninp, nhead, nhid, nlayers, dropout=0.5):\n",
    "    super(TransformerClassifier, self).__init__()\n",
    "    from torch.nn import TransformerEncoder, TransformerEncoderLayer\n",
    "    self.model_type = 'Transformer'\n",
    "    encoder_layers = TransformerEncoderLayer(ninp, nhead, nhid, dropout)\n",
    "    self.transformer_encoder = TransformerEncoder(encoder_layers, nlayers)\n",
    "    self.ninp = ninp\n",
    "    self.dropout = nn.Dropout(0.3)\n",
    "    self.convs = nn.ModuleList([nn.Conv2d(1, 100, (K, ninp)) for K in [3,4,5]])\n",
    "    self.classifier = nn.Linear(ninp, 2)\n",
    "    self.fc1 = nn.Linear(len([3,4,5]) * 100, 2)\n",
    "    self.init_weights()\n",
    "    \n",
    "\n",
    "  def generate_square_subsequent_mask(self, sz):\n",
    "    mask = (torch.triu(torch.ones(sz, sz)) == 1).transpose(0, 1)\n",
    "    mask = mask.float().masked_fill(mask == 0, float('-inf')).masked_fill(mask == 1, float(0.0))\n",
    "    return mask\n",
    "\n",
    "  def init_weights(self):\n",
    "    initrange = 0.1\n",
    "    self.classifier.bias.data.zero_()\n",
    "    self.classifier.weight.data.uniform_(-initrange, initrange)\n",
    "\n",
    "  def forward2(self, src):\n",
    "    # Transformer Layer\n",
    "    src = src * math.sqrt(self.ninp)\n",
    "    x = self.transformer_encoder(src)\n",
    "    # Conv Layer\n",
    "    x = x.unsqueeze(1)  # (N, Ci, W, D)\n",
    "    x = [torch.relu(conv(x)).squeeze(3) for conv in self.convs]  # [(N, Co, W), ...] * len(Ks)\n",
    "    # Pooling Layer\n",
    "    x = [torch.max_pool1d(i, i.size(2)).squeeze(2) for i in x]  # [(N, Co), ...] * len(Ks)\n",
    "    x = torch.cat(x, 1)\n",
    "    # Fully Connected Layer\n",
    "    x = self.dropout(x)  # (N, len(Ks)*Co)\n",
    "    logit = self.fc1(x)  # (N, C)\n",
    "    return logit\n",
    "\n",
    "  def forward(self, src):\n",
    "    \n",
    "    # Non-conv Approch\n",
    "    src = src * math.sqrt(self.ninp)\n",
    "    output = self.transformer_encoder(src)\n",
    "\n",
    "    # Average Pooling Layer\n",
    "    output = output.permute(0,2,1)\n",
    "    output = torch.mean(output, -1)\n",
    "    output = self.dropout(output)\n",
    "    output = torch.relu(self.dense(output))\n",
    "    output = self.dropout(output)\n",
    "    output = self.classifier(output)\n",
    "    return output\n",
    "\n",
    "  def predict(self, x):\n",
    "\n",
    "    #Apply sigmoid to output. \n",
    "    pred = torch.sigmoid(self.forward2(x))\n",
    "    ans = []\n",
    "    \n",
    "    #Pick the class with maximum weight\n",
    "    for t in pred:\n",
    "      if t[0] > t[1]:\n",
    "        ans.append(0)\n",
    "      else:\n",
    "        ans.append(1)\n",
    "    return torch.tensor(ans)"
   ]
  },
  {
   "cell_type": "raw",
   "metadata": {},
   "source": [
    "它基于Transformer和卷积神经网络（CNN）的结构。该模型用于进行分类任务，具体功能如下：\n",
    "\n",
    "    1、初始化函数（__init__）：定义了模型的各个组件，包括Transformer编码器（transformer_encoder），卷积层（convs），线性分类器（classifier）等，并初始化权重。\n",
    "    2、生成掩码函数（generate_square_subsequent_mask）：生成一个方形的自回归掩码，用于在Transformer中屏蔽未来位置的信息。\n",
    "    3、初始化权重函数（init_weights）：对分类器的权重进行初始化。\n",
    "    4、前向传播函数（forward）：通过Transformer编码器将输入数据进行编码，然后进行平均池化操作，接着经过全连接层和激活函数处理，最后通过线性分类器输出分类结果。\n",
    "    5、预测函数（predict）：使用sigmoid函数将输出转换为概率，然后根据概率大小进行类别预测。\n",
    "    整体而言，该模型结合了Transformer和CNN的优势，利用Transformer编码器提取输入数据的特征表示，再通过卷积层和池化层对特征进行进一步处理，最后通过线性分类器输出分类结果。"
   ]
  },
  {
   "cell_type": "code",
   "execution_count": 3,
   "metadata": {
    "id": "EdZsbnu6goJm"
   },
   "outputs": [],
   "source": [
    "import torch.optim\n",
    "\n",
    "#Initialize the model        \n",
    "model = TransformerClassifier(len(df.columns) - 1, 4, 1024, 3)\n",
    "#Define loss criterion\n",
    "criterion = nn.CrossEntropyLoss()\n",
    "#Define the optimizer\n",
    "optimizer = torch.optim.Adam(model.parameters(), lr=0.001)\n"
   ]
  },
  {
   "cell_type": "raw",
   "metadata": {},
   "source": [
    "    1、初始化模型：通过调用TransformerClassifier类来实例化模型对象，传入输入特征的维度（len(df.columns) - 1）、头数（4）、隐藏层维度（1024）和编码器层数（3）来初始化模型。\n",
    "    2、定义损失函数：使用交叉熵损失函数（nn.CrossEntropyLoss()）作为分类任务的损失函数。\n",
    "    3、定义优化器：使用Adam优化器（torch.optim.Adam）来更新模型的参数，将模型的参数和学习率（lr=0.001）传递给优化器。\n",
    "    通过以上操作，模型被初始化并准备好进行训练。在训练过程中，可以使用定义的损失函数计算损失，并使用优化器根据损失来更新模型的参数。"
   ]
  },
  {
   "cell_type": "code",
   "execution_count": 4,
   "metadata": {
    "colab": {
     "base_uri": "https://localhost:8080/"
    },
    "id": "IuRpR_gvgsJj",
    "outputId": "803e07ca-900f-4e4d-e9a4-7446f48d0b7d"
   },
   "outputs": [
    {
     "name": "stdout",
     "output_type": "stream",
     "text": [
      "0th of 10 Epoch | LOSS:tensor(1.7035) | T-LOSS:tensor(1.6721)\n",
      "1th of 10 Epoch | LOSS:tensor(1.2141) | T-LOSS:tensor(0.9166)\n",
      "2th of 10 Epoch | LOSS:tensor(0.5670) | T-LOSS:tensor(0.5380)\n",
      "3th of 10 Epoch | LOSS:tensor(0.3979) | T-LOSS:tensor(0.2654)\n",
      "4th of 10 Epoch | LOSS:tensor(0.2956) | T-LOSS:tensor(0.1368)\n",
      "5th of 10 Epoch | LOSS:tensor(0.1361) | T-LOSS:tensor(0.1468)\n",
      "6th of 10 Epoch | LOSS:tensor(0.1619) | T-LOSS:tensor(0.1796)\n",
      "7th of 10 Epoch | LOSS:tensor(0.1253) | T-LOSS:tensor(0.1187)\n",
      "8th of 10 Epoch | LOSS:tensor(0.1339) | T-LOSS:tensor(0.0427)\n",
      "9th of 10 Epoch | LOSS:tensor(0.1218) | T-LOSS:tensor(0.0368)\n"
     ]
    }
   ],
   "source": [
    "#Size of traning data batch\n",
    "\n",
    "BATCH_SIZE = 512\n",
    "\n",
    "#Number of epochs\n",
    "epochs = 10\n",
    "#List to store losses\n",
    "losses = []\n",
    "test_losses = []\n",
    "\n",
    "for i in range(epochs):\n",
    "  \n",
    "  loss_total = 0\n",
    "  test_lost_total = 0\n",
    "\n",
    "  permutation = torch.randperm(train_X.size()[0])\n",
    "  for j in range(0, train_X.size()[0], BATCH_SIZE):\n",
    "\n",
    "    #Clear the previous gradients\n",
    "    optimizer.zero_grad()\n",
    "\n",
    "    #Batch the data\n",
    "    indices = permutation[j: j + BATCH_SIZE]\n",
    "    batch_x, batch_y = train_X[indices], train_Y[indices]\n",
    "\n",
    "    train_y_pred = model.forward2(batch_x)\n",
    "    test_y_pred = model.forward2(test_X[0:100])\n",
    "\n",
    "    #Compute Cross entropy loss\n",
    "    loss = criterion(train_y_pred, batch_y)\n",
    "    loss_total += loss\n",
    "    test_lost = criterion(test_y_pred, test_Y[0:100])\n",
    "    test_lost_total += test_lost\n",
    "\n",
    "    #Add loss to the list\n",
    "    losses.append(loss.item())\n",
    "    test_losses.append(test_lost.item())\n",
    "    \n",
    "    loss.backward()\n",
    "    optimizer.step()\n",
    "\n",
    "  print(str(i) + 'th of ' + str(epochs) + ' Epoch' + \" | LOSS:\" + str(loss_total.data) + \" | T-LOSS:\" + str(test_lost_total.data))\n"
   ]
  },
  {
   "cell_type": "raw",
   "metadata": {},
   "source": [
    "\n",
    "    1、定义批量大小（BATCH_SIZE）：将训练数据划分为批次进行训练，每个批次包含的样本数量为BATCH_SIZE。\n",
    "    2、定义训练的轮数（epochs）：指定模型进行训练的总轮数。\n",
    "    3、创建空列表用于存储训练过程中的损失值。\n",
    "    4、开始训练循环：对于每个epoch，进行以下操作：\n",
    "    a. 初始化损失累计变量（loss_total）和测试集损失累计变量（test_lost_total）。\n",
    "    b. 对训练数据进行随机重排（permutation）。\n",
    "    c. 对每个批次进行训练：\n",
    "        清除之前的梯度信息（optimizer.zero_grad()）。\n",
    "        从随机排列的训练数据中获取一个批次的数据（batch_x和batch_y）。\n",
    "        使用模型进行前向传播得到训练数据的预测结果（train_y_pred）和测试数据的预测结果（test_y_pred）。\n",
    "        计算交叉熵损失（loss）和测试集损失（test_lost）。\n",
    "        将损失值添加到损失列表中。\n",
    "        反向传播并更新模型的参数（loss.backward()和optimizer.step()）。\n",
    "        累计损失值到loss_total和test_lost_total。\n",
    "        d. 打印当前epoch的训练损失和测试损失。\n",
    "\n",
    "通过以上代码，模型将进行指定轮数的训练，并且每个epoch都会计算训练损失和测试损失，并将它们保存在对应的列表中。"
   ]
  },
  {
   "cell_type": "code",
   "execution_count": 5,
   "metadata": {
    "id": "JV_8t3Ssgzq1"
   },
   "outputs": [
    {
     "name": "stdout",
     "output_type": "stream",
     "text": [
      "tensor([1, 1, 1, 1, 0, 0, 1, 1, 0, 0, 0, 0, 0, 1, 0, 1, 0, 0, 0, 0, 0, 0, 0, 0,\n",
      "        1, 0, 0, 0, 0, 1, 1, 1, 0, 0, 0, 0, 0, 1, 0, 1, 0, 1, 1, 0, 1, 1, 0, 0,\n",
      "        1, 0, 1, 0, 1, 0, 0, 1, 0, 1, 0, 1, 1, 0, 0, 1, 0, 1, 0, 1, 0, 0, 0, 1,\n",
      "        0, 1, 0, 1, 0, 0, 0, 1, 1, 0, 0, 1, 1, 0, 0, 1, 1, 1, 0, 1, 0, 1, 1, 0,\n",
      "        1, 0, 1, 0, 0, 1, 1, 1, 1, 0, 1, 1, 1, 1, 1, 0, 0, 0, 0, 1, 0, 1, 1, 1,\n",
      "        1, 1, 0, 0, 1, 0, 1, 0, 1, 1, 1, 1, 1, 0, 1, 0, 1, 1, 1, 1, 0, 0, 1, 0,\n",
      "        1, 0, 0, 1, 1, 0, 1, 0, 0, 1, 0, 0, 1, 1, 0, 1, 0, 1, 1, 1, 0, 1, 0, 1,\n",
      "        0, 0, 0, 1, 1, 0, 1, 0, 0, 0, 1, 0, 0, 1, 0, 0, 1, 0, 1, 1, 1, 1, 1, 0,\n",
      "        1, 0, 0, 0, 1, 1, 0, 0, 0, 1, 1, 1, 0, 0, 1, 1, 0, 1, 0, 1, 0, 1, 0, 1,\n",
      "        1, 0, 1, 0, 0, 1, 1, 1, 1, 1, 0, 1, 1, 0, 0, 1, 1, 0, 0, 1, 1, 0, 1, 1,\n",
      "        1, 0, 1, 0, 0, 0, 0, 1, 1, 0, 1, 1, 1, 1, 1, 0, 1, 1, 0, 0, 0, 1, 1, 0,\n",
      "        0, 0, 0, 0, 0, 0, 0, 0, 0, 1, 0, 1, 1, 0, 0, 0, 1, 0, 1, 1, 1, 0, 1, 0,\n",
      "        0, 1, 0, 1, 0, 1, 1, 0, 0, 0, 0, 1, 1, 1, 0, 1, 0, 0, 0, 1, 1, 1, 1, 0,\n",
      "        0, 0, 0])\n"
     ]
    }
   ],
   "source": [
    "from sklearn import metrics\n",
    "\n",
    "results = []\n",
    "for i in range(0, len(test_X) - 5, 5): # 500->10\n",
    "  ret = model.predict(test_X[i:i+5])\n",
    "  results.append(ret)  # 将numpy数组转换为张量并添加到results列表中\n",
    "if results:\n",
    "    dd = torch.cat(results)\n",
    "    print(dd)\n",
    "else:\n",
    "    print(\"results列表为空\")"
   ]
  },
  {
   "cell_type": "raw",
   "metadata": {},
   "source": [
    "这段代码用于在测试集上进行预测，并将预测结果存储在results列表中。代码的主要步骤如下：\n",
    "\n",
    "    1、创建一个空的结果列表results，用于存储每个样本的预测结果。\n",
    "    2、使用循环遍历测试集数据，每次取5个样本进行预测（从索引i到i+4）。\n",
    "    3、调用模型的predict方法对这5个样本进行预测，得到预测结果ret。\n",
    "    4、将ret添加到results列表中。\n",
    "    5、如果results列表不为空，则将列表中的预测结果连接起来，形成一个张量dd。\n",
    "    6、打印张量dd，即为测试集上的预测结果。\n"
   ]
  },
  {
   "cell_type": "code",
   "execution_count": 6,
   "metadata": {
    "colab": {
     "base_uri": "https://localhost:8080/"
    },
    "id": "Ho7U6tZHHwER",
    "outputId": "695e7358-15f0-45df-bd57-1647181e57e8"
   },
   "outputs": [
    {
     "name": "stdout",
     "output_type": "stream",
     "text": [
      "0.9841269841269841\n",
      "0.9841269841269841\n"
     ]
    }
   ],
   "source": [
    "print(metrics.accuracy_score(dd, test_Y[0:315]))\n",
    "print(metrics.recall_score(dd, test_Y[0:315], average='micro'))"
   ]
  },
  {
   "cell_type": "code",
   "execution_count": 7,
   "metadata": {
    "colab": {
     "base_uri": "https://localhost:8080/",
     "height": 268
    },
    "id": "2aR--QFZLC5c",
    "outputId": "c4a06f89-f72e-4ae5-a4b9-b18c8a991c92"
   },
   "outputs": [
    {
     "data": {
      "image/png": "[encoded data removed]",
      "text/plain": [
       "<Figure size 432x288 with 1 Axes>"
      ]
     },
     "metadata": {
      "needs_background": "light"
     },
     "output_type": "display_data"
    }
   ],
   "source": [
    "import matplotlib.pyplot as plt\n",
    "%matplotlib inline\n",
    "plt.plot(losses)\n",
    "plt.plot(test_losses)\n",
    "plt.show()"
   ]
  },
  {
   "cell_type": "code",
   "execution_count": 8,
   "metadata": {},
   "outputs": [
    {
     "data": {
      "image/png": "[encoded data removed]",
      "text/plain": [
       "<Figure size 432x288 with 1 Axes>"
      ]
     },
     "metadata": {
      "needs_background": "light"
     },
     "output_type": "display_data"
    }
   ],
   "source": [
    "import matplotlib.pyplot as plt\n",
    "\n",
    "# 假设你已经有了losses和test_losses列表\n",
    "\n",
    "# 绘制曲线\n",
    "plt.plot(losses, label='Training Loss')\n",
    "plt.plot(test_losses, label='Test Loss')\n",
    "\n",
    "# 设置横坐标刻度\n",
    "num_ticks = 10  # 设置刻度数量\n",
    "plt.xticks(range(0, len(losses), len(losses)//num_ticks))  # 设置刻度间距\n",
    "\n",
    "# 添加线条名称\n",
    "plt.legend(loc='upper right')\n",
    "\n",
    "plt.show()\n"
   ]
  },
  {
   "cell_type": "code",
   "execution_count": 9,
   "metadata": {},
   "outputs": [
    {
     "data": {
      "image/png": "[encoded data removed]",
      "text/plain": [
       "<Figure size 432x288 with 1 Axes>"
      ]
     },
     "metadata": {
      "needs_background": "light"
     },
     "output_type": "display_data"
    }
   ],
   "source": [
    "import matplotlib.pyplot as plt\n",
    "import numpy as np\n",
    "\n",
    "# 假设你已经有了losses和test_losses列表\n",
    "\n",
    "window_size = 3  # 移动平均窗口大小\n",
    "\n",
    "# 计算移动平均\n",
    "smoothed_losses = np.convolve(losses, np.ones(window_size)/window_size, mode='valid')\n",
    "smoothed_test_losses = np.convolve(test_losses, np.ones(window_size)/window_size, mode='valid')\n",
    "\n",
    "# 绘制平滑后的曲线\n",
    "plt.plot(smoothed_losses, label='Smoothed Training Loss')\n",
    "plt.plot(smoothed_test_losses, label='Smoothed Test Loss')\n",
    "\n",
    "# 设置横坐标刻度\n",
    "num_ticks = 10  # 设置刻度数量\n",
    "plt.xticks(range(0, len(smoothed_losses), len(smoothed_losses)//num_ticks))  # 设置刻度间距\n",
    "\n",
    "# 添加线条名称\n",
    "plt.legend()\n",
    "\n",
    "plt.show()\n"
   ]
  },
  {
   "cell_type": "raw",
   "metadata": {},
   "source": [
    "绘制平滑后的训练损失和测试损失曲线。代码的主要步骤如下：\n",
    "\n",
    "    1、定义移动平均窗口大小window_size，用于计算平滑后的损失值。\n",
    "    2、使用np.convolve函数对losses和test_losses列表进行移动平均计算，将平滑后的结果保存在smoothed_losses和smoothed_test_losses中。\n",
    "    3、使用plt.plot函数绘制平滑后的训练损失曲线，设置label为'Smoothed Training Loss'。\n",
    "    4、使用plt.plot函数绘制平滑后的测试损失曲线，设置label为'Smoothed Test Loss'。\n",
    "    5、使用plt.xticks函数设置横坐标刻度，将刻度间距设置为len(smoothed_losses)//num_ticks，确保刻度数量为num_ticks。\n",
    "    6、使用plt.legend函数添加线条名称。\n",
    "    7、使用plt.show函数显示绘制的图形。\n",
    "\n",
    "通过绘制平滑后的损失曲线，可以更直观地观察训练和测试过程中损失的变化情况。"
   ]
  },
  {
   "cell_type": "code",
   "execution_count": 10,
   "metadata": {
    "colab": {
     "base_uri": "https://localhost:8080/",
     "height": 286
    },
    "id": "bXRYuvmYiDjV",
    "outputId": "3f7ddca8-0ae2-4516-e8a4-7abd5fddd06e"
   },
   "outputs": [
    {
     "data": {
      "text/plain": [
       "<AxesSubplot:>"
      ]
     },
     "execution_count": 10,
     "metadata": {},
     "output_type": "execute_result"
    },
    {
     "data": {
      "image/png": "[encoded data removed]",
      "text/plain": [
       "<Figure size 432x288 with 2 Axes>"
      ]
     },
     "metadata": {
      "needs_background": "light"
     },
     "output_type": "display_data"
    }
   ],
   "source": [
    "import seaborn as sns\n",
    "from sklearn.metrics import confusion_matrix\n",
    "\n",
    "cm = confusion_matrix(test_Y[0:315],dd)\n",
    "sns.heatmap(cm, annot=True)"
   ]
  },
  {
   "cell_type": "raw",
   "metadata": {},
   "source": [
    "生成混淆矩阵，并通过热力图可视化混淆矩阵。代码的主要步骤如下：\n",
    "\n",
    "    1、导入seaborn和sklearn.metrics中的confusion_matrix模块。\n",
    "    2、调用confusion_matrix函数计算混淆矩阵，传入参数为真实标签test_Y的前315个样本和预测结果dd。\n",
    "    3、使用seaborn中的heatmap函数绘制热力图，传入参数为混淆矩阵cm，并设置annot=True以显示每个单元格的数值。\n",
    "\n",
    "通过绘制混淆矩阵的热力图，可以更直观地观察模型的分类性能，包括真正例、真负例、假正例和假负例的数量，并通过数值标注显示每个类别的数量。"
   ]
  },
  {
   "cell_type": "code",
   "execution_count": 11,
   "metadata": {},
   "outputs": [
    {
     "data": {
      "image/png": "[encoded data removed]",
      "text/plain": [
       "<Figure size 432x288 with 2 Axes>"
      ]
     },
     "metadata": {
      "needs_background": "light"
     },
     "output_type": "display_data"
    },
    {
     "name": "stdout",
     "output_type": "stream",
     "text": [
      "准确率： 0.9841269841269841\n",
      "精确率： 0.9741935483870968\n",
      "召回率： 0.993421052631579\n",
      "F1分数： 0.9837133550488599\n"
     ]
    }
   ],
   "source": [
    "import seaborn as sns\n",
    "import matplotlib.pyplot as plt\n",
    "from sklearn.metrics import confusion_matrix\n",
    "\n",
    "# 计算混淆矩阵\n",
    "cm = confusion_matrix(test_Y[0:315], dd)\n",
    "\n",
    "# 使用Seaborn绘制热力图\n",
    "sns.heatmap(cm, annot=True, fmt='d')\n",
    "\n",
    "# 添加标题和轴标签\n",
    "plt.title('Confusion Matrix')\n",
    "plt.xlabel('Predicted Label')\n",
    "plt.ylabel('True Label')\n",
    "\n",
    "# 显示图像\n",
    "plt.show()\n",
    "from sklearn.metrics import accuracy_score, precision_score, recall_score, f1_score\n",
    "\n",
    "# 计算准确率\n",
    "accuracy = accuracy_score(test_Y[0:315], dd)\n",
    "\n",
    "# 计算精确率\n",
    "precision = precision_score(test_Y[0:315], dd)\n",
    "\n",
    "# 计算召回率\n",
    "recall = recall_score(test_Y[0:315], dd)\n",
    "\n",
    "# 计算F1分数\n",
    "f1 = f1_score(test_Y[0:315], dd)\n",
    "\n",
    "# 打印指标\n",
    "print(\"准确率：\", accuracy)\n",
    "print(\"精确率：\", precision)\n",
    "print(\"召回率：\", recall)\n",
    "print(\"F1分数：\", f1)\n"
   ]
  },
  {
   "cell_type": "code",
   "execution_count": 12,
   "metadata": {},
   "outputs": [
    {
     "data": {
      "image/png": "[encoded data removed]",
      "text/plain": [
       "<Figure size 432x288 with 1 Axes>"
      ]
     },
     "metadata": {
      "needs_background": "light"
     },
     "output_type": "display_data"
    }
   ],
   "source": [
    "from sklearn.metrics import roc_curve, auc\n",
    "\n",
    "# 计算ROC曲线的假正例率（FPR）和真正例率（TPR）\n",
    "fpr, tpr, thresholds = roc_curve(test_Y[0:315], dd)\n",
    "\n",
    "# 计算AUC（曲线下面积）\n",
    "roc_auc = auc(fpr, tpr)\n",
    "\n",
    "# 绘制ROC曲线\n",
    "plt.plot(fpr, tpr, label='ROC curve (area = %0.2f)' % roc_auc)\n",
    "plt.plot([0, 1], [0, 1], 'k--')  # 绘制对角线\n",
    "plt.xlim([0.0, 1.0])\n",
    "plt.ylim([0.0, 1.05])\n",
    "plt.xlabel('False Positive Rate')\n",
    "plt.ylabel('True Positive Rate')\n",
    "plt.title('Receiver Operating Characteristic')\n",
    "plt.legend(loc=\"lower right\")\n",
    "plt.show()\n"
   ]
  },
  {
   "cell_type": "raw",
   "metadata": {},
   "source": [
    "这段代码用于计算并绘制ROC曲线。代码的主要步骤如下：\n",
    "\n",
    "    1、导入sklearn.metrics中的roc_curve和auc模块。\n",
    "    2、调用roc_curve函数计算ROC曲线的假正例率（FPR）、真正例率（TPR）以及阈值（thresholds），传入参数为真实标签test_Y的前315个样本和预测结果dd。\n",
    "    3、调用auc函数计算AUC（曲线下面积），传入参数为FPR和TPR。\n",
    "    4、使用plt.plot函数绘制ROC曲线，传入参数为FPR和TPR，并通过字符串格式化显示AUC的值。\n",
    "    5、使用plt.plot函数绘制对角线。\n",
    "    6、设置x轴和y轴的范围以及标签和标题。\n",
    "    7、使用plt.legend函数添加图例。\n",
    "    8、使用plt.show函数显示图形。\n",
    "\n",
    "绘制ROC曲线可以评估二分类模型的性能，通过观察曲线下面积（AUC），可以判断模型的分类准确性。ROC曲线越接近左上角且AUC值越大，表示模型性能越好。"
   ]
  },
  {
   "cell_type": "code",
   "execution_count": 13,
   "metadata": {},
   "outputs": [
    {
     "data": {
      "image/png": "[encoded data removed]",
      "text/plain": [
       "<Figure size 432x288 with 1 Axes>"
      ]
     },
     "metadata": {
      "needs_background": "light"
     },
     "output_type": "display_data"
    }
   ],
   "source": [
    "from sklearn.metrics import precision_recall_curve\n",
    "\n",
    "# 计算精确率和召回率\n",
    "precision, recall, thresholds = precision_recall_curve(test_Y[0:315], dd)\n",
    "\n",
    "# 绘制精确率-召回率曲线\n",
    "plt.plot(recall, precision)\n",
    "plt.xlim([0.0, 1.0])\n",
    "plt.ylim([0.0, 1.05])\n",
    "plt.xlabel('Recall')\n",
    "plt.ylabel('Precision')\n",
    "plt.title('Precision-Recall Curve')\n",
    "plt.show()\n"
   ]
  },
  {
   "cell_type": "raw",
   "metadata": {},
   "source": [
    "这段代码用于计算并绘制精确率-召回率曲线。代码的主要步骤如下：\n",
    "\n",
    "    1、导入sklearn.metrics中的precision_recall_curve模块。\n",
    "    2、调用precision_recall_curve函数计算精确率（precision）、召回率（recall）以及阈值（thresholds），传入参数为真实标签test_Y的前315个样本和预测结果dd。\n",
    "    3、使用plt.plot函数绘制精确率-召回率曲线，传入参数为recall和precision。\n",
    "    4、设置x轴和y轴的范围以及标签和标题。\n",
    "    5、使用plt.show函数显示图形。\n",
    "\n",
    "精确率-召回率曲线可以帮助评估二分类模型在不同阈值下的性能。通过观察曲线，可以选择适当的阈值来平衡精确率和召回率，以满足具体应用的需求。通常情况下，随着阈值的增大，精确率会增加而召回率会减小。"
   ]
  }
 ],
 "metadata": {
  "accelerator": "GPU",
  "colab": {
   "collapsed_sections": [],
   "machine_shape": "hm",
   "name": "IDS_Flow_Class",
   "provenance": []
  },
  "kernelspec": {
   "display_name": "Python 3 (ipykernel)",
   "language": "python",
   "name": "python3"
  },
  "language_info": {
   "codemirror_mode": {
    "name": "ipython",
    "version": 3
   },
   "file_extension": ".py",
   "mimetype": "text/x-python",
   "name": "python",
   "nbconvert_exporter": "python",
   "pygments_lexer": "ipython3",
   "version": "3.8.10"
  }
 },
 "nbformat": 4,
 "nbformat_minor": 4
}
